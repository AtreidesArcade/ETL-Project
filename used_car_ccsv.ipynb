{
 "cells": [
  {
   "cell_type": "code",
   "execution_count": 2,
   "id": "e1ae2131",
   "metadata": {},
   "outputs": [],
   "source": [
    "# Import Dependencies\n",
    "import pandas as pd\n",
    "import csv\n",
    "import sys, json\n",
    "import psycopg2\n",
    "from sqlalchemy import create_engine\n",
    "import pymongo\n",
    "import datetime\n",
    "import numpy as np\n",
    "np.random.seed(1)\n",
    "import requests\n",
    "from pprint import pprint\n",
    "import matplotlib.pyplot as plt\n",
    "from flask import jsonify\n"
   ]
  },
  {
   "cell_type": "code",
   "execution_count": null,
   "id": "ee5d97e0",
   "metadata": {},
   "outputs": [],
   "source": [
    "# The path to our CSV files to extract all Inc 5000 company list\n",
    "\n",
    "# 2019 Inc 5000 company list\n",
    "used_car_csv = \"Resources/.csv\""
   ]
  }
 ],
 "metadata": {
  "kernelspec": {
   "display_name": "Python 3",
   "language": "python",
   "name": "python3"
  },
  "language_info": {
   "codemirror_mode": {
    "name": "ipython",
    "version": 3
   },
   "file_extension": ".py",
   "mimetype": "text/x-python",
   "name": "python",
   "nbconvert_exporter": "python",
   "pygments_lexer": "ipython3",
   "version": "3.8.8"
  }
 },
 "nbformat": 4,
 "nbformat_minor": 5
}
